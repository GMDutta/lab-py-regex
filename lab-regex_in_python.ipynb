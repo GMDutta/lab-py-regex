{
  "cells": [
    {
      "cell_type": "markdown",
      "metadata": {
        "id": "view-in-github",
        "colab_type": "text"
      },
      "source": [
        "<a href=\"https://colab.research.google.com/github/GMDutta/lab-py-regex/blob/main/lab-regex_in_python.ipynb\" target=\"_parent\"><img src=\"https://colab.research.google.com/assets/colab-badge.svg\" alt=\"Open In Colab\"/></a>"
      ]
    },
    {
      "cell_type": "markdown",
      "metadata": {
        "id": "gDswvQN_6YBU"
      },
      "source": [
        "# LAB | Regular Expressions (Regex) in Python"
      ]
    },
    {
      "cell_type": "markdown",
      "metadata": {
        "id": "VBC2QheD6YBV"
      },
      "source": [
        "## Overview\n",
        "This exercise notebook will help you practice using regular expressions in Python. Regular expressions are powerful tools for matching patterns in strings, which can be useful for validation, searching, and data manipulation.\n",
        "\n",
        "## Instructions\n",
        "- Complete each exercise by writing the appropriate regex pattern and Python code in the provided space.\n",
        "- Test your code to ensure it works as expected.\n",
        "<!-- - Use the hints provided if you get stuck. -->"
      ]
    },
    {
      "cell_type": "markdown",
      "metadata": {
        "id": "GOJEZYQF6YBV"
      },
      "source": [
        "### Exercise 1: Match Email Addresses\n",
        "Write a regex pattern to match valid email addresses. An email address should contain an '@' symbol and a domain."
      ]
    },
    {
      "cell_type": "code",
      "execution_count": 1,
      "metadata": {
        "colab": {
          "base_uri": "https://localhost:8080/"
        },
        "id": "K7j-2WQm6YBW",
        "outputId": "73076ef6-60f6-409c-da37-7ba71f60813e"
      },
      "outputs": [
        {
          "output_type": "stream",
          "name": "stdout",
          "text": [
            "Valid email\n"
          ]
        }
      ],
      "source": [
        "import re\n",
        "\n",
        "# Example input\n",
        "email = \"example@example.com\"\n",
        "\n",
        "# Regex pattern for a basic valid email\n",
        "pattern = r\"^[A-Za-z0-9._%+-]+@[A-Za-z0-9.-]+\\.[A-Za-z]{2,}$\"\n",
        "\n",
        "# Test the regex\n",
        "if re.match(pattern, email):\n",
        "    print(\"Valid email\")\n",
        "else:\n",
        "    print(\"Invalid email\")\n"
      ]
    },
    {
      "cell_type": "markdown",
      "metadata": {
        "id": "Q2GpS5On6YBW"
      },
      "source": [
        "### Exercise 2: Validate Phone Numbers\n",
        "Create a regex pattern to validate phone numbers in the format (123) 456-7890 or 123-456-7890."
      ]
    },
    {
      "cell_type": "code",
      "execution_count": 2,
      "metadata": {
        "colab": {
          "base_uri": "https://localhost:8080/"
        },
        "id": "K4XpfPGI6YBW",
        "outputId": "c4fabb5c-87e1-4edc-9e1b-704bb5aa5a19"
      },
      "outputs": [
        {
          "output_type": "stream",
          "name": "stdout",
          "text": [
            "Valid phone number\n"
          ]
        }
      ],
      "source": [
        "import re\n",
        "\n",
        "# Example input\n",
        "phone_number = \"(123) 456-7890\"\n",
        "\n",
        "# Regex pattern\n",
        "pattern = r\"^(\\(\\d{3}\\)\\s?\\d{3}-\\d{4}|\\d{3}-\\d{3}-\\d{4})$\"\n",
        "\n",
        "# Test the regex\n",
        "if re.match(pattern, phone_number):\n",
        "    print(\"Valid phone number\")\n",
        "else:\n",
        "    print(\"Invalid phone number\")\n"
      ]
    },
    {
      "cell_type": "markdown",
      "metadata": {
        "id": "p5bSeEo86YBW"
      },
      "source": [
        "### Exercise 3: Extract Dates\n",
        "Write a regex pattern to extract dates in the format YYYY-MM-DD from a string."
      ]
    },
    {
      "cell_type": "code",
      "execution_count": 5,
      "metadata": {
        "colab": {
          "base_uri": "https://localhost:8080/"
        },
        "id": "BFqM8vTD6YBW",
        "outputId": "e0ef1a62-071f-43ca-8fed-76a47ab3a1b9"
      },
      "outputs": [
        {
          "output_type": "stream",
          "name": "stdout",
          "text": [
            "['2024-12-25']\n"
          ]
        }
      ],
      "source": [
        "\n",
        "import re\n",
        "\n",
        "text = \"The event is scheduled for 2024-12-25.\"\n",
        "\n",
        "pattern = r\"\\b\\d{4}-\\d{2}-\\d{2}\\b\"\n",
        "\n",
        "dates = re.findall(pattern, text)\n",
        "print(dates)\n"
      ]
    },
    {
      "cell_type": "markdown",
      "metadata": {
        "id": "AnfFhDkG6YBX"
      },
      "source": [
        "### Exercise 4: Match URLs\n",
        "Create a regex pattern to match URLs that start with http:// or https://."
      ]
    },
    {
      "cell_type": "code",
      "execution_count": 8,
      "metadata": {
        "colab": {
          "base_uri": "https://localhost:8080/"
        },
        "id": "iqBSoK-06YBX",
        "outputId": "7ae7ea92-c169-4192-cc6a-a5e6b9df4cc2"
      },
      "outputs": [
        {
          "output_type": "stream",
          "name": "stdout",
          "text": [
            "Valid URL\n"
          ]
        }
      ],
      "source": [
        "\n",
        "import re\n",
        "\n",
        "url = \"https://www.example.com\"\n",
        "\n",
        "pattern = r\"^https?://[A-Za-z0-9._%/-]+$\"\n",
        "\n",
        "if re.match(pattern, url):\n",
        "    print(\"Valid URL\")\n",
        "else:\n",
        "    print(\"Invalid URL\")\n"
      ]
    },
    {
      "cell_type": "markdown",
      "metadata": {
        "id": "NnIzBQF86YBX"
      },
      "source": [
        "### Exercise 5: Find Words Starting with a Specific Letter\n",
        "Write a regex pattern to find all words starting with the letter 'a' in a given string."
      ]
    },
    {
      "cell_type": "code",
      "execution_count": 9,
      "metadata": {
        "colab": {
          "base_uri": "https://localhost:8080/"
        },
        "id": "uLqWhuwB6YBX",
        "outputId": "41e44510-3855-4c82-d9e4-6ae0f063d14d"
      },
      "outputs": [
        {
          "output_type": "stream",
          "name": "stdout",
          "text": [
            "['A', 'a']\n"
          ]
        }
      ],
      "source": [
        "\n",
        "import re\n",
        "\n",
        "text = \"A quick brown fox jumps over a lazy dog.\"\n",
        "\n",
        "pattern = r\"\\b[aA]\\w*\"\n",
        "\n",
        "words = re.findall(pattern, text)\n",
        "print(words)\n"
      ]
    },
    {
      "cell_type": "markdown",
      "metadata": {
        "id": "2Fpfm-LB6YBX"
      },
      "source": [
        "### Exercise 6: Match Hexadecimal Colors\n",
        "Create a regex pattern to match hexadecimal color codes (e.g., #FFFFFF)."
      ]
    },
    {
      "cell_type": "code",
      "execution_count": 11,
      "metadata": {
        "colab": {
          "base_uri": "https://localhost:8080/"
        },
        "id": "7HdJ4uLw6YBX",
        "outputId": "9e5ccdd4-3a37-40a9-9901-6e9b677e845a"
      },
      "outputs": [
        {
          "output_type": "stream",
          "name": "stdout",
          "text": [
            "Valid hex color code\n"
          ]
        }
      ],
      "source": [
        "import re\n",
        "\n",
        "import re\n",
        "\n",
        "color_code = \"#FFFFFF\"\n",
        "\n",
        "pattern = r\"^#[A-Fa-f0-9]{6}$\"\n",
        "\n",
        "if re.match(pattern, color_code):\n",
        "    print(\"Valid hex color code\")\n",
        "else:\n",
        "    print(\"Invalid hex color code\")\n"
      ]
    },
    {
      "cell_type": "markdown",
      "metadata": {
        "id": "nA2DclNc6YBX"
      },
      "source": [
        "### Exercise 7: Validate Passwords\n",
        "Write a regex pattern to validate passwords that must be at least 8 characters long and contain at least one uppercase letter, one lowercase letter, one digit, and one special character."
      ]
    },
    {
      "cell_type": "code",
      "execution_count": 12,
      "metadata": {
        "colab": {
          "base_uri": "https://localhost:8080/"
        },
        "id": "HX6oDRlg6YBX",
        "outputId": "9cc19b08-60a4-433a-f476-0f74f316b18a"
      },
      "outputs": [
        {
          "output_type": "stream",
          "name": "stdout",
          "text": [
            "Valid password\n"
          ]
        }
      ],
      "source": [
        "import re\n",
        "\n",
        "password = \"Password123!\"\n",
        "\n",
        "pattern = r\"^(?=.*[A-Z])(?=.*[a-z])(?=.*\\d)(?=.*\\W).{8,}$\"\n",
        "\n",
        "if re.match(pattern, password):\n",
        "    print(\"Valid password\")\n",
        "else:\n",
        "    print(\"Invalid password\")\n"
      ]
    },
    {
      "cell_type": "markdown",
      "metadata": {
        "id": "CxhaMs-R6YBX"
      },
      "source": [
        "### Exercise 8: Remove Extra Spaces\n",
        "Create a regex pattern that removes extra spaces from a string while keeping single spaces between words."
      ]
    },
    {
      "cell_type": "code",
      "execution_count": 13,
      "metadata": {
        "colab": {
          "base_uri": "https://localhost:8080/"
        },
        "id": "T39XTHRW6YBX",
        "outputId": "f3bf211c-cb90-4a14-b3ad-b23e06b2e6f8"
      },
      "outputs": [
        {
          "output_type": "stream",
          "name": "stdout",
          "text": [
            "This is an example.\n"
          ]
        }
      ],
      "source": [
        "import re\n",
        "\n",
        "text = \"This   is   an   example.\"\n",
        "\n",
        "pattern = r\"\\s{2,}\"\n",
        "\n",
        "cleaned_text = re.sub(pattern, \" \", text)\n",
        "print(cleaned_text)\n"
      ]
    },
    {
      "cell_type": "markdown",
      "metadata": {
        "id": "s8xGRCZ76YBY"
      },
      "source": [
        "### Exercise 9: Match IP Addresses\n",
        "Write a regex pattern to match valid IPv4 addresses."
      ]
    },
    {
      "cell_type": "code",
      "execution_count": 14,
      "metadata": {
        "colab": {
          "base_uri": "https://localhost:8080/"
        },
        "id": "lyTaP-0F6YBY",
        "outputId": "6765513d-f710-4701-d8bf-16ac7e39df94"
      },
      "outputs": [
        {
          "output_type": "stream",
          "name": "stdout",
          "text": [
            "Valid IP address\n"
          ]
        }
      ],
      "source": [
        "import re\n",
        "\n",
        "ip_address = \"192.168.1.1\"\n",
        "\n",
        "pattern = r\"^((25[0-5]|2[0-4]\\d|1\\d{2}|[0-9]?\\d)\\.){3}(25[0-5]|2[0-4]\\d|1\\d{2}|[0-9]?\\d)$\"\n",
        "\n",
        "if re.match(pattern, ip_address):\n",
        "    print(\"Valid IP address\")\n",
        "else:\n",
        "    print(\"Invalid IP address\")\n"
      ]
    },
    {
      "cell_type": "markdown",
      "metadata": {
        "id": "110sNn116YBY"
      },
      "source": [
        "### Exercise 10: Extract Hashtags\n",
        "Create a regex pattern to extract hashtags from a string."
      ]
    },
    {
      "cell_type": "code",
      "execution_count": 15,
      "metadata": {
        "colab": {
          "base_uri": "https://localhost:8080/"
        },
        "id": "M_OBcuRn6YBY",
        "outputId": "0ffafcf5-8fe9-4cec-8e03-564d71c98823"
      },
      "outputs": [
        {
          "output_type": "stream",
          "name": "stdout",
          "text": [
            "['#Python', '#Regex', '#Coding']\n"
          ]
        }
      ],
      "source": [
        "\n",
        "import re\n",
        "\n",
        "text = \"Here are some hashtags: #Python #Regex #Coding.\"\n",
        "\n",
        "pattern = r\"#\\w+\"\n",
        "\n",
        "hashtags = re.findall(pattern, text)\n",
        "print(hashtags)\n",
        "\n"
      ]
    },
    {
      "cell_type": "markdown",
      "metadata": {
        "id": "v-sZLlED6YBY"
      },
      "source": [
        "## Bonus Exercises\n"
      ]
    },
    {
      "cell_type": "markdown",
      "metadata": {
        "id": "WuQuBVdN6YBY"
      },
      "source": [
        "\n",
        "### Bonus Exercise 1: Match All Digits\n",
        "Write a regex pattern to match all digits in a given string."
      ]
    },
    {
      "cell_type": "code",
      "execution_count": 16,
      "metadata": {
        "colab": {
          "base_uri": "https://localhost:8080/"
        },
        "id": "afQfUt3S6YBY",
        "outputId": "2faacc37-d8ba-4e7c-e72f-b0849c0986ce"
      },
      "outputs": [
        {
          "output_type": "stream",
          "name": "stdout",
          "text": [
            "['2', '3']\n"
          ]
        }
      ],
      "source": [
        "import re\n",
        "\n",
        "text = \"There are 2 apples and 3 oranges.\"\n",
        "\n",
        "pattern = r\"\\d\"\n",
        "\n",
        "digits = re.findall(pattern, text)\n",
        "print(digits)\n"
      ]
    },
    {
      "cell_type": "markdown",
      "metadata": {
        "id": "xlSaazkg6YBY"
      },
      "source": [
        "### Bonus Exercise 2: Validate Credit Card Numbers  \n",
        "Create a regex pattern to validate credit card numbers (16 digits)."
      ]
    },
    {
      "cell_type": "code",
      "execution_count": 17,
      "metadata": {
        "colab": {
          "base_uri": "https://localhost:8080/"
        },
        "id": "Qb3P3DZA6YBY",
        "outputId": "08ad6636-dc90-4f3a-a9a4-877c1bbf5c73"
      },
      "outputs": [
        {
          "output_type": "stream",
          "name": "stdout",
          "text": [
            "Valid credit card number\n"
          ]
        }
      ],
      "source": [
        "import re\n",
        "\n",
        "credit_card_number = \"1234-5678-9876-5432\"\n",
        "\n",
        "pattern = r\"^(\\d{4}-){3}\\d{4}$\"\n",
        "\n",
        "if re.match(pattern, credit_card_number):\n",
        "    print(\"Valid credit card number\")\n",
        "else:\n",
        "    print(\"Invalid credit card number\")\n"
      ]
    },
    {
      "cell_type": "markdown",
      "metadata": {
        "id": "aBqgB8eE6YBY"
      },
      "source": [
        "### Bonus Exercise 3: Match Non-Alphanumeric Characters  \n",
        "Write a regex pattern to match non-alphanumeric characters in a string."
      ]
    },
    {
      "cell_type": "code",
      "execution_count": 18,
      "metadata": {
        "colab": {
          "base_uri": "https://localhost:8080/"
        },
        "id": "REZboc-_6YBY",
        "outputId": "115a0a17-247f-4e77-c621-cf8165e39c9b"
      },
      "outputs": [
        {
          "output_type": "stream",
          "name": "stdout",
          "text": [
            "['!', '?', '@', '.']\n"
          ]
        }
      ],
      "source": [
        "\n",
        "import re\n",
        "\n",
        "text = \"Hello! How are you? @Python3.\"\n",
        "\n",
        "pattern = r\"[^A-Za-z0-9\\s]\"\n",
        "\n",
        "non_alphanumeric_chars = re.findall(pattern, text)\n",
        "print(non_alphanumeric_chars)\n",
        "\n"
      ]
    },
    {
      "cell_type": "markdown",
      "metadata": {
        "id": "kD8uIjj76YBY"
      },
      "source": [
        "### Bonus Exercise 4: Validate Date Format  \n",
        "Create a regex pattern to validate dates in the format DD/MM/YYYY."
      ]
    },
    {
      "cell_type": "code",
      "execution_count": 19,
      "metadata": {
        "colab": {
          "base_uri": "https://localhost:8080/"
        },
        "id": "0bYGf_yO6YBZ",
        "outputId": "205dab99-c0ac-4188-e535-5f38e724f021"
      },
      "outputs": [
        {
          "output_type": "stream",
          "name": "stdout",
          "text": [
            "Valid date format\n"
          ]
        }
      ],
      "source": [
        "import re\n",
        "\n",
        "date_string = \"25/12/2024\"\n",
        "\n",
        "pattern = r\"^(0[1-9]|[12]\\d|3[01])/(0[1-9]|1[0-2])/\\d{4}$\"\n",
        "\n",
        "if re.match(pattern, date_string):\n",
        "    print(\"Valid date format\")\n",
        "else:\n",
        "    print(\"Invalid date format\")\n"
      ]
    },
    {
      "cell_type": "markdown",
      "metadata": {
        "id": "i8ChoSrI6YBZ"
      },
      "source": [
        "### Bonus Exercise 5: Extract Email Domains  \n",
        "Write a regex pattern to extract domains from email addresses."
      ]
    },
    {
      "cell_type": "code",
      "execution_count": 22,
      "metadata": {
        "colab": {
          "base_uri": "https://localhost:8080/"
        },
        "id": "Ii-sW-d_6YBZ",
        "outputId": "e0a010b8-8a74-463d-f755-a231dd2680d0"
      },
      "outputs": [
        {
          "output_type": "stream",
          "name": "stdout",
          "text": [
            "example.com\n",
            "domain.org\n"
          ]
        }
      ],
      "source": [
        "import re\n",
        "\n",
        "email_list = [\"user@example.com\", \"admin@domain.org\"]\n",
        "\n",
        "pattern = r\"@(.+)$\"\n",
        "\n",
        "for email in email_list:\n",
        "    domain = re.search(pattern, email)\n",
        "    if domain:\n",
        "        print(domain.group(1))\n"
      ]
    },
    {
      "cell_type": "markdown",
      "metadata": {
        "id": "NjuEDwWG6YBZ"
      },
      "source": [
        "### Exercise Completion  \n",
        "Once you have completed all exercises:\n",
        "- Review your solutions.\n",
        "- Ensure your regular expressions and Python code are well-documented with comments explaining your logic.\n",
        "- Save your notebook for submission or further review.\n",
        "\n",
        "Happy coding! Enjoy practicing Regular Expressions in Python!"
      ]
    }
  ],
  "metadata": {
    "kernelspec": {
      "display_name": "Python 3",
      "name": "python3"
    },
    "language_info": {
      "codemirror_mode": {
        "name": "ipython",
        "version": 3
      },
      "file_extension": ".py",
      "mimetype": "text/x-python",
      "name": "python",
      "nbconvert_exporter": "python",
      "pygments_lexer": "ipython3",
      "version": "3.8.0"
    },
    "colab": {
      "provenance": [],
      "include_colab_link": true
    }
  },
  "nbformat": 4,
  "nbformat_minor": 0
}